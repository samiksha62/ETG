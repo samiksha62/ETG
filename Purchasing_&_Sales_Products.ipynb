{
  "nbformat": 4,
  "nbformat_minor": 0,
  "metadata": {
    "colab": {
      "name": "Purchasing & Sales Products.ipynb",
      "provenance": [],
      "collapsed_sections": []
    },
    "kernelspec": {
      "name": "python3",
      "display_name": "Python 3"
    },
    "language_info": {
      "name": "python"
    }
  },
  "cells": [
    {
      "cell_type": "code",
      "metadata": {
        "id": "Dqt7cgLn7pni"
      },
      "source": [
        "import json\n",
        "\n",
        "fd = open(\"record (2).json\",'r')\n",
        "r = fd.read()\n",
        "fd.close()\n",
        "\n",
        "records = json.loads(r)"
      ],
      "execution_count": 2,
      "outputs": []
    },
    {
      "cell_type": "code",
      "metadata": {
        "id": "OUT4jJWk71Ty"
      },
      "source": [
        "records"
      ],
      "execution_count": null,
      "outputs": []
    },
    {
      "cell_type": "markdown",
      "metadata": {
        "id": "iTyJM2M6uQVG"
      },
      "source": [
        "**Purchasing Product**"
      ]
    },
    {
      "cell_type": "code",
      "metadata": {
        "colab": {
          "base_uri": "https://localhost:8080/"
        },
        "id": "2UZoks8e8CXK",
        "outputId": "297b3aee-dd92-42cf-bb3b-7f49e8823621"
      },
      "source": [
        "ui_prod  = str(input(\"Enter the product_Id: \"))\n",
        "ui_quant = int(input(\"Enter the quantity: \"))\n",
        "\n",
        "print(\"***********************\")\n",
        "print(\"Biling\")\n",
        "print(\"Product: \", records[ui_prod]['name'])\n",
        "print(\"Product Company name: \", records[ui_prod]['ProCompany_Name'])\n",
        "print(\"Price: \", records[ui_prod]['pr'])\n",
        "print(\"PhoneNo: \", records[ui_prod]['Pho'])\n",
        "\n",
        "print(\"-----------------------------\")\n",
        "print(\"Total Amount: \", records[ui_prod]['pr'] * ui_quant)\n",
        "print(\"***********************\")\n",
        "records[ui_prod]['qn'] = records[ui_prod]['qn'] - ui_quant"
      ],
      "execution_count": 23,
      "outputs": [
        {
          "output_type": "stream",
          "name": "stdout",
          "text": [
            "Enter the product_Id: 122\n",
            "Enter the quantity: 4\n",
            "***********************\n",
            "Biling\n",
            "Product:  Soap\n",
            "Product Company name:  Santur\n",
            "Price:  20\n",
            "PhoneNo:  456321788\n",
            "-----------------------------\n",
            "Total Amount:  80\n",
            "***********************\n"
          ]
        }
      ]
    },
    {
      "cell_type": "markdown",
      "metadata": {
        "id": "eH9IafnzqC3A"
      },
      "source": [
        "## Update Inventory After Purchasing"
      ]
    },
    {
      "cell_type": "code",
      "metadata": {
        "id": "dOi1NKYT8VcK"
      },
      "source": [
        "js = json.dumps(records)\n",
        "\n",
        "fd = open(\"record (2).json\",'w')\n",
        "fd.write(js)\n",
        "fd.close()"
      ],
      "execution_count": 24,
      "outputs": []
    },
    {
      "cell_type": "markdown",
      "metadata": {
        "id": "ACRW6caTrYGZ"
      },
      "source": [
        "## sales JSON"
      ]
    },
    {
      "cell_type": "code",
      "metadata": {
        "colab": {
          "base_uri": "https://localhost:8080/"
        },
        "id": "leGiKOsjU6fe",
        "outputId": "76d8a618-10a1-4ce9-e8e8-930e809aba7f"
      },
      "source": [
        "{'prod' : ui_prod, 'qn' : ui_quant, 'amount': records[ui_prod]['pr'] * ui_quant}"
      ],
      "execution_count": 25,
      "outputs": [
        {
          "output_type": "execute_result",
          "data": {
            "text/plain": [
              "{'amount': 80, 'prod': '122', 'qn': 4}"
            ]
          },
          "metadata": {},
          "execution_count": 25
        }
      ]
    },
    {
      "cell_type": "code",
      "metadata": {
        "id": "SoaMdHHQ8vkB"
      },
      "source": [
        "sales = {1 : {'prod' : ui_prod, 'qn' : ui_quant, 'amount': records[ui_prod]['pr'] * ui_quant},\n",
        "         2 : {'prod' : ui_prod, 'qn' : ui_quant, 'amount': records[ui_prod]['pr'] * ui_quant},\n",
        "         3 : {'prod' : ui_prod, 'qn' : ui_quant, 'amount': records[ui_prod]['pr'] * ui_quant}}"
      ],
      "execution_count": 26,
      "outputs": []
    },
    {
      "cell_type": "code",
      "metadata": {
        "id": "no3-I_5t5yJS",
        "colab": {
          "base_uri": "https://localhost:8080/",
          "height": 52
        },
        "outputId": "348b3841-e701-43e6-bfb7-f04975380944"
      },
      "source": [
        " json.dumps(sales)"
      ],
      "execution_count": 27,
      "outputs": [
        {
          "output_type": "execute_result",
          "data": {
            "application/vnd.google.colaboratory.intrinsic+json": {
              "type": "string"
            },
            "text/plain": [
              "'{\"1\": {\"prod\": \"122\", \"qn\": 4, \"amount\": 80}, \"2\": {\"prod\": \"122\", \"qn\": 4, \"amount\": 80}, \"3\": {\"prod\": \"122\", \"qn\": 4, \"amount\": 80}}'"
            ]
          },
          "metadata": {},
          "execution_count": 27
        }
      ]
    },
    {
      "cell_type": "code",
      "metadata": {
        "id": "34SqRZkQtBBw"
      },
      "source": [
        "fd = open(\"record (2).json\",'r')\n",
        "r = fd.read()\n",
        "fd.close()\n"
      ],
      "execution_count": 28,
      "outputs": []
    },
    {
      "cell_type": "code",
      "metadata": {
        "colab": {
          "base_uri": "https://localhost:8080/"
        },
        "id": "zpNFCa0wtVcu",
        "outputId": "3d7ce8a3-9925-4fef-ebc6-9edb5d260b56"
      },
      "source": [
        "  {(len(sales) + 1) : {'prod' : ui_prod, 'qn' : ui_quant, 'amount': records[ui_prod]['pr'] * ui_quant}}"
      ],
      "execution_count": 29,
      "outputs": [
        {
          "output_type": "execute_result",
          "data": {
            "text/plain": [
              "{4: {'amount': 80, 'prod': '122', 'qn': 4}}"
            ]
          },
          "metadata": {},
          "execution_count": 29
        }
      ]
    },
    {
      "cell_type": "code",
      "metadata": {
        "id": "nth78UGsuEew"
      },
      "source": [
        "sales[(len(sales) + 1)] = {'prod' : ui_prod, 'qn' : ui_quant, 'amount': records[ui_prod]['pr'] * ui_quant},"
      ],
      "execution_count": 30,
      "outputs": []
    },
    {
      "cell_type": "code",
      "metadata": {
        "colab": {
          "base_uri": "https://localhost:8080/"
        },
        "id": "x7CCN3F6uVU1",
        "outputId": "2ceb2709-24b8-4a19-e229-9835c149ee63"
      },
      "source": [
        "sales"
      ],
      "execution_count": 31,
      "outputs": [
        {
          "output_type": "execute_result",
          "data": {
            "text/plain": [
              "{1: {'amount': 80, 'prod': '122', 'qn': 4},\n",
              " 2: {'amount': 80, 'prod': '122', 'qn': 4},\n",
              " 3: {'amount': 80, 'prod': '122', 'qn': 4},\n",
              " 4: ({'amount': 80, 'prod': '122', 'qn': 4},)}"
            ]
          },
          "metadata": {},
          "execution_count": 31
        }
      ]
    },
    {
      "cell_type": "code",
      "metadata": {
        "id": "zhOZt2ZouXxF"
      },
      "source": [
        ""
      ],
      "execution_count": null,
      "outputs": []
    }
  ]
}