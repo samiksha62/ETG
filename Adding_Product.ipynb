{
  "nbformat": 4,
  "nbformat_minor": 0,
  "metadata": {
    "colab": {
      "name": "Adding Product.ipynb",
      "provenance": [],
      "collapsed_sections": []
    },
    "kernelspec": {
      "name": "python3",
      "display_name": "Python 3"
    },
    "language_info": {
      "name": "python"
    }
  },
  "cells": [
    {
      "cell_type": "code",
      "metadata": {
        "id": "JP5rBxvKwOe2"
      },
      "source": [
        "import json\n",
        "fd = open(\"record.json\",'r')\n",
        "r = fd.read()\n",
        "fd.close()\n",
        "\n",
        "record = json.loads(r)"
      ],
      "execution_count": 44,
      "outputs": []
    },
    {
      "cell_type": "markdown",
      "metadata": {
        "id": "7wgt0OIF8QX5"
      },
      "source": [
        " **JSON Record**"
      ]
    },
    {
      "cell_type": "code",
      "metadata": {
        "id": "jGvJ07Kow8NE"
      },
      "source": [
        "record"
      ],
      "execution_count": null,
      "outputs": []
    },
    {
      "cell_type": "code",
      "metadata": {
        "id": "YqHGTIqaaGlb"
      },
      "source": [
        "import time"
      ],
      "execution_count": 70,
      "outputs": []
    },
    {
      "cell_type": "code",
      "metadata": {
        "colab": {
          "base_uri": "https://localhost:8080/",
          "height": 35
        },
        "id": "2qpfC_jQaMLr",
        "outputId": "3aa60e63-bd9e-41c6-a901-6c552bd56836"
      },
      "source": [
        "time.ctime()"
      ],
      "execution_count": 71,
      "outputs": [
        {
          "output_type": "execute_result",
          "data": {
            "application/vnd.google.colaboratory.intrinsic+json": {
              "type": "string"
            },
            "text/plain": [
              "'Sun Sep  5 19:21:48 2021'"
            ]
          },
          "metadata": {},
          "execution_count": 71
        }
      ]
    },
    {
      "cell_type": "markdown",
      "metadata": {
        "id": "QKUiBTJG8CuF"
      },
      "source": [
        "*****Add New Item into Inventory¶*****\n"
      ]
    },
    {
      "cell_type": "code",
      "metadata": {
        "colab": {
          "base_uri": "https://localhost:8080/"
        },
        "id": "4SEzmW4mxAII",
        "outputId": "275044a7-1163-4b96-fff0-6f7fe15ad994"
      },
      "source": [
        "prod_id = str(input(\"Enter product id:\"))\n",
        "name = str(input(\"Enter name:\"))\n",
        "ProCompany_Name = str(input(\"Enter Company_Name:\"))\n",
        "pr = int(input(\"Enter price:\"))\n",
        "qn = int(input(\"Enter quantity:\"))\n",
        "Pho = int(input(\"Enter Pho:\"))\n",
        "\n",
        "record[prod_id] = {'name': name, 'pr': pr, 'qn': qn, 'Pho': Pho,'ProCompany_Name': ProCompany_Name}\n",
        "\n",
        "js = json.dumps(record)\n",
        "\n",
        "fd = open(\"record.json\",'w')\n",
        "fd.write(js)\n",
        "fd.close()"
      ],
      "execution_count": 72,
      "outputs": [
        {
          "name": "stdout",
          "output_type": "stream",
          "text": [
            "Enter product id:131\n",
            "Enter name:Watch\n",
            "Enter Company_Name:Morgo\n",
            "Enter price:300\n",
            "Enter quantity:80\n",
            "Enter Pho:8523699994\n"
          ]
        }
      ]
    },
    {
      "cell_type": "code",
      "metadata": {
        "colab": {
          "base_uri": "https://localhost:8080/"
        },
        "id": "6WjuSaxHxJxv",
        "outputId": "d713225c-e40f-4559-90c5-d940d609ec3f"
      },
      "source": [
        "record"
      ],
      "execution_count": 68,
      "outputs": [
        {
          "output_type": "execute_result",
          "data": {
            "text/plain": [
              "{'101': {'Pho': 896542452,\n",
              "  'ProCompany_Name': 'Amul',\n",
              "  'name': 'Butter',\n",
              "  'pr': 100,\n",
              "  'qn': 29},\n",
              " '102': {'Pho': 8596324,\n",
              "  'ProCompany_Name': 'Amul',\n",
              "  'name': 'Milk Cake',\n",
              "  'pr': 800,\n",
              "  'qn': 100},\n",
              " '103': {'Pho': 85693412,\n",
              "  'ProCompany_Name': 'Amay',\n",
              "  'name': 'Drink',\n",
              "  'pr': 85,\n",
              "  'qn': 100},\n",
              " '104': {'Pho': 9547632,\n",
              "  'ProCompany_Name': 'Patanjali',\n",
              "  'name': 'Candy',\n",
              "  'pr': 5,\n",
              "  'qn': 1000},\n",
              " '105': {'Pho': 75482369,\n",
              "  'ProCompany_Name': 'Natraj',\n",
              "  'name': 'Pencils',\n",
              "  'pr': 20,\n",
              "  'qn': 95},\n",
              " '106': {'Pho': 45236452,\n",
              "  'ProCompany_Name': 'Samsung',\n",
              "  'name': 'Mobile',\n",
              "  'pr': 50000,\n",
              "  'qn': 10},\n",
              " '107': {'Pho': 5236417,\n",
              "  'ProCompany_Name': 'Jio',\n",
              "  'name': 'Mic',\n",
              "  'pr': 1500,\n",
              "  'qn': 0},\n",
              " '108': {'Pho': 4527996,\n",
              "  'ProCompany_Name': 'Fruitify',\n",
              "  'name': 'Mango Juice',\n",
              "  'pr': 599,\n",
              "  'qn': 5},\n",
              " '109': {'Pho': 9586423,\n",
              "  'ProCompany_Name': 'Sony',\n",
              "  'name': 'Keyboard',\n",
              "  'pr': 1999,\n",
              "  'qn': 10},\n",
              " '110': {'Pho': 14523,\n",
              "  'ProCompany_Name': 'Dabar',\n",
              "  'name': 'Almond',\n",
              "  'pr': 90,\n",
              "  'qn': 2},\n",
              " '111': {'Pho': 145234255,\n",
              "  'ProCompany_Name': 'Dabar',\n",
              "  'name': 'Jemes',\n",
              "  'pr': 20,\n",
              "  'qn': 1},\n",
              " '112': {'Pho': 145236,\n",
              "  'ProCompany_Name': 'Panasonic',\n",
              "  'name': 'HeadPhones',\n",
              "  'pr': 200,\n",
              "  'qn': 1},\n",
              " '116': {'Pho': 52896366,\n",
              "  'ProCompany_Name': 'Maza Company',\n",
              "  'name': 'Maza',\n",
              "  'pr': 40,\n",
              "  'qn': 1},\n",
              " '117': {'Pho': 89632541,\n",
              "  'ProCompany_Name': 'Goldex Delta',\n",
              "  'name': 'Pens',\n",
              "  'pr': 10,\n",
              "  'qn': 50},\n",
              " '118': {'Pho': 78965412,\n",
              "  'ProCompany_Name': 'Anand Bekery',\n",
              "  'name': 'Cup Cake',\n",
              "  'pr': 150,\n",
              "  'qn': 2},\n",
              " '119': {'Pho': 8965412333,\n",
              "  'ProCompany_Name': 'Balaji',\n",
              "  'name': 'Namkin',\n",
              "  'pr': 200,\n",
              "  'qn': 13},\n",
              " '120': {'Pho': 69854712222,\n",
              "  'ProCompany_Name': 'Shiseido',\n",
              "  'name': 'Cosmatic',\n",
              "  'pr': 550,\n",
              "  'qn': 2},\n",
              " '121': {'Pho': 87459999966,\n",
              "  'ProCompany_Name': 'LENOVO-G50',\n",
              "  'name': 'Laptop',\n",
              "  'pr': 65000,\n",
              "  'qn': 1},\n",
              " '122': {'Pho': 456321788,\n",
              "  'ProCompany_Name': 'Santur',\n",
              "  'name': 'Soap',\n",
              "  'pr': 20,\n",
              "  'qn': 60},\n",
              " '123': {'Pho': 8963214555,\n",
              "  'ProCompany_Name': 'Detoil',\n",
              "  'name': 'Hand wash',\n",
              "  'pr': 180,\n",
              "  'qn': 6},\n",
              " '124': {'Pho': 456321788,\n",
              "  'ProCompany_Name': 'Nestlé Global',\n",
              "  'name': 'Kit-Kat',\n",
              "  'pr': 90,\n",
              "  'qn': 155},\n",
              " '125': {'Pho': 7896541222,\n",
              "  'ProCompany_Name': 'Nestlé ',\n",
              "  'name': 'Coffe',\n",
              "  'pr': 130,\n",
              "  'qn': 300},\n",
              " '126': {'Pho': 6214555885,\n",
              "  'ProCompany_Name': 'KingFisher',\n",
              "  'name': 'Soft-Drink',\n",
              "  'pr': 500,\n",
              "  'qn': 60},\n",
              " '127': {'Pho': 9849999546,\n",
              "  'ProCompany_Name': 'BMW',\n",
              "  'name': 'car',\n",
              "  'pr': 6000000,\n",
              "  'qn': 6},\n",
              " '128': {'Pho': 8452163339,\n",
              "  'ProCompany_Name': 'Panasonic',\n",
              "  'name': 'cabels',\n",
              "  'pr': 90,\n",
              "  'qn': 60},\n",
              " '129': {'Pho': 5412633988,\n",
              "  'ProCompany_Name': 'Shama',\n",
              "  'name': 'Kurta',\n",
              "  'pr': 500,\n",
              "  'qn': 2},\n",
              " '130': {'Pho': 458963888,\n",
              "  'ProCompany_Name': 'Himalaya',\n",
              "  'name': 'Shampoo',\n",
              "  'pr': 200,\n",
              "  'qn': 90}}"
            ]
          },
          "metadata": {},
          "execution_count": 68
        }
      ]
    },
    {
      "cell_type": "code",
      "metadata": {
        "id": "FQIDyjVKxswY"
      },
      "source": [
        "del record['104']"
      ],
      "execution_count": null,
      "outputs": []
    },
    {
      "cell_type": "code",
      "metadata": {
        "id": "gwWikLgNxu0-"
      },
      "source": [
        "record"
      ],
      "execution_count": null,
      "outputs": []
    },
    {
      "cell_type": "code",
      "metadata": {
        "id": "T9CQy1R8dcR9"
      },
      "source": [
        "record[str(len(record))] = {\"name\": \"Namkin\"}"
      ],
      "execution_count": 79,
      "outputs": []
    },
    {
      "cell_type": "code",
      "metadata": {
        "id": "BuLa2Fo7d8LF"
      },
      "source": [
        "record"
      ],
      "execution_count": null,
      "outputs": []
    },
    {
      "cell_type": "code",
      "metadata": {
        "id": "WZdM4RFVehaw"
      },
      "source": [
        ""
      ],
      "execution_count": null,
      "outputs": []
    }
  ]
}