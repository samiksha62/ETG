{
  "nbformat": 4,
  "nbformat_minor": 0,
  "metadata": {
    "colab": {
      "name": "JSON Cell(JSON_Based_Inventory_Managment.ipynb",
      "provenance": [],
      "collapsed_sections": []
    },
    "kernelspec": {
      "name": "python3",
      "display_name": "Python 3"
    },
    "language_info": {
      "name": "python"
    }
  },
  "cells": [
    {
      "cell_type": "code",
      "metadata": {
        "id": "b8QZomVlfsjR"
      },
      "source": [
        "import json\n",
        "fd = open('record (2).json','r')\n",
        "\n",
        "txt = fd.read()\n",
        "\n",
        "fd.close()"
      ],
      "execution_count": 3,
      "outputs": []
    },
    {
      "cell_type": "code",
      "metadata": {
        "id": "dsE5tdsYgTF-"
      },
      "source": [
        "dct"
      ],
      "execution_count": null,
      "outputs": []
    },
    {
      "cell_type": "code",
      "metadata": {
        "id": "MbggYQgjg0eE"
      },
      "source": [
        "dct = json.loads(txt)"
      ],
      "execution_count": 6,
      "outputs": []
    },
    {
      "cell_type": "code",
      "metadata": {
        "id": "j-MBpW3cg2HA"
      },
      "source": [
        "dct"
      ],
      "execution_count": null,
      "outputs": []
    },
    {
      "cell_type": "code",
      "metadata": {
        "colab": {
          "base_uri": "https://localhost:8080/"
        },
        "id": "VS5kI2c1hEgj",
        "outputId": "e09ec119-e50c-455b-c5b6-b8791ed44c3b"
      },
      "source": [
        "prod_id = input(\"Enter product id:\")"
      ],
      "execution_count": 16,
      "outputs": [
        {
          "name": "stdout",
          "output_type": "stream",
          "text": [
            "Enter product id:123\n"
          ]
        }
      ]
    },
    {
      "cell_type": "code",
      "metadata": {
        "colab": {
          "base_uri": "https://localhost:8080/",
          "height": 35
        },
        "id": "iPyqiPdShRkb",
        "outputId": "4779d347-2d79-43b9-c453-5f707adf077f"
      },
      "source": [
        "prod_id"
      ],
      "execution_count": 18,
      "outputs": [
        {
          "output_type": "execute_result",
          "data": {
            "application/vnd.google.colaboratory.intrinsic+json": {
              "type": "string"
            },
            "text/plain": [
              "'123'"
            ]
          },
          "metadata": {},
          "execution_count": 18
        }
      ]
    },
    {
      "cell_type": "code",
      "metadata": {
        "colab": {
          "base_uri": "https://localhost:8080/"
        },
        "id": "2ulni0J9hV3d",
        "outputId": "8a3a5828-d1b4-4a66-8090-7c70145a1509"
      },
      "source": [
        "if (prod_id in dct.keys()):\n",
        "  del dct[prod_id]\n",
        "  print(\"Item exited\")\n",
        "else:\n",
        "  print(\"No item exists\")"
      ],
      "execution_count": 19,
      "outputs": [
        {
          "output_type": "stream",
          "name": "stdout",
          "text": [
            "Item exited\n"
          ]
        }
      ]
    },
    {
      "cell_type": "code",
      "metadata": {
        "id": "0ZGEQmVIh8aW"
      },
      "source": [
        "import json\n",
        "\n",
        "js = json.dumps(dct)"
      ],
      "execution_count": 21,
      "outputs": []
    },
    {
      "cell_type": "code",
      "metadata": {
        "id": "bE8wzyrrh-dK"
      },
      "source": [
        "js"
      ],
      "execution_count": null,
      "outputs": []
    },
    {
      "cell_type": "code",
      "metadata": {
        "id": "pBiRbB2piMsy"
      },
      "source": [
        "fd = open('record.json','w')\n",
        "\n",
        "fd.write(js)\n",
        "\n",
        "fd.close()"
      ],
      "execution_count": 24,
      "outputs": []
    },
    {
      "cell_type": "code",
      "metadata": {
        "colab": {
          "base_uri": "https://localhost:8080/",
          "height": 35
        },
        "id": "R-aTpyjqiQTH",
        "outputId": "516d904b-9b22-4aac-9990-6a60c5062af6"
      },
      "source": [
        "import time\n",
        "time.ctime()"
      ],
      "execution_count": 26,
      "outputs": [
        {
          "output_type": "execute_result",
          "data": {
            "application/vnd.google.colaboratory.intrinsic+json": {
              "type": "string"
            },
            "text/plain": [
              "'Sun Sep  5 19:57:56 2021'"
            ]
          },
          "metadata": {},
          "execution_count": 26
        }
      ]
    },
    {
      "cell_type": "code",
      "metadata": {
        "id": "RiJNjWJZjy5L"
      },
      "source": [
        "dct[str(len(dct))] = {\"name\" : \"Cup Cake\"}"
      ],
      "execution_count": 34,
      "outputs": []
    },
    {
      "cell_type": "code",
      "metadata": {
        "id": "1xALyhJTkY0o"
      },
      "source": [
        "dct"
      ],
      "execution_count": null,
      "outputs": []
    },
    {
      "cell_type": "code",
      "metadata": {
        "id": "P7lV8pbNnB_y"
      },
      "source": [
        ""
      ],
      "execution_count": null,
      "outputs": []
    }
  ]
}