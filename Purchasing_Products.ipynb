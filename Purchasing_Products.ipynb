{
  "nbformat": 4,
  "nbformat_minor": 0,
  "metadata": {
    "colab": {
      "name": "Purchasing_Products.ipynb",
      "provenance": [],
      "collapsed_sections": []
    },
    "kernelspec": {
      "name": "python3",
      "display_name": "Python 3"
    },
    "language_info": {
      "name": "python"
    }
  },
  "cells": [
    {
      "cell_type": "code",
      "metadata": {
        "id": "Dqt7cgLn7pni"
      },
      "source": [
        "import json\n",
        "\n",
        "fd = open(\"record (2).json\",'r')\n",
        "r = fd.read()\n",
        "fd.close()\n",
        "\n",
        "records = json.loads(r)"
      ],
      "execution_count": 2,
      "outputs": []
    },
    {
      "cell_type": "code",
      "metadata": {
        "id": "OUT4jJWk71Ty"
      },
      "source": [
        "records"
      ],
      "execution_count": null,
      "outputs": []
    },
    {
      "cell_type": "markdown",
      "metadata": {
        "id": "iTyJM2M6uQVG"
      },
      "source": [
        "**Purchasing Product**"
      ]
    },
    {
      "cell_type": "code",
      "metadata": {
        "colab": {
          "base_uri": "https://localhost:8080/"
        },
        "id": "2UZoks8e8CXK",
        "outputId": "438fca75-b636-4c8d-be41-985dcb0fc91a"
      },
      "source": [
        "ui_prod  = str(input(\"Enter the product_Id: \"))\n",
        "ui_quant = int(input(\"Enter the quantity: \"))\n",
        "\n",
        "print(\"***********************\")\n",
        "print(\"Biling\")\n",
        "print(\"Product: \", records[ui_prod]['name'])\n",
        "print(\"Product Company name: \", records[ui_prod]['ProCompany_Name'])\n",
        "print(\"Price: \", records[ui_prod]['pr'])\n",
        "print(\"PhoneNo: \", records[ui_prod]['Pho'])\n",
        "\n",
        "print(\"-----------------------------\")\n",
        "print(\"Total Amount: \", records[ui_prod]['pr'] * ui_quant)\n",
        "print(\"***********************\")\n",
        "records[ui_prod]['qn'] = records[ui_prod]['qn'] - ui_quant"
      ],
      "execution_count": 6,
      "outputs": [
        {
          "output_type": "stream",
          "name": "stdout",
          "text": [
            "Enter the product_Id: 101\n",
            "Enter the quantity: 1\n",
            "***********************\n",
            "Biling\n",
            "Product:  Butter\n",
            "Product Company name:  Amul\n",
            "Price:  100\n",
            "PhoneNo:  896542452\n",
            "-----------------------------\n",
            "Total Amount:  100\n",
            "***********************\n"
          ]
        }
      ]
    },
    {
      "cell_type": "code",
      "metadata": {
        "id": "dOi1NKYT8VcK"
      },
      "source": [
        "js = json.dumps(records)\n",
        "\n",
        "fd = open(\"record (2).json\",'w')\n",
        "fd.write(js)\n",
        "fd.close()"
      ],
      "execution_count": 11,
      "outputs": []
    },
    {
      "cell_type": "code",
      "metadata": {
        "id": "SoaMdHHQ8vkB"
      },
      "source": [
        "sales = {1 : {'prod' : ui_prod, 'qn' : ui_quant, 'amount': records[ui_prod]['pr'] * ui_quant},\n",
        "         2 : {'prod' : ui_prod, 'qn' : ui_quant, 'amount': records[ui_prod]['pr'] * ui_quant},\n",
        "         3 : {'prod' : ui_prod, 'qn' : ui_quant, 'amount': records[ui_prod]['pr'] * ui_quant}}"
      ],
      "execution_count": 12,
      "outputs": []
    },
    {
      "cell_type": "code",
      "metadata": {
        "id": "II9GEFjT8y1P"
      },
      "source": [
        "sale = json.dumps(sales)"
      ],
      "execution_count": 13,
      "outputs": []
    },
    {
      "cell_type": "code",
      "metadata": {
        "colab": {
          "base_uri": "https://localhost:8080/"
        },
        "id": "leGiKOsjU6fe",
        "outputId": "dd0b577e-ed32-46e0-894f-f0c73cb0b1e6"
      },
      "source": [
        "{'prod' : ui_prod, 'qn' : ui_quant, 'amount': records[ui_prod]['pr'] * ui_quant}"
      ],
      "execution_count": 14,
      "outputs": [
        {
          "output_type": "execute_result",
          "data": {
            "text/plain": [
              "{'amount': 100, 'prod': '101', 'qn': 1}"
            ]
          },
          "metadata": {},
          "execution_count": 14
        }
      ]
    },
    {
      "cell_type": "code",
      "metadata": {
        "id": "no3-I_5t5yJS"
      },
      "source": [
        ""
      ],
      "execution_count": null,
      "outputs": []
    }
  ]
}